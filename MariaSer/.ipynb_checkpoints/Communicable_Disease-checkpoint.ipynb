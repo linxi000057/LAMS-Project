{
 "cells": [
  {
   "cell_type": "code",
   "execution_count": 1,
   "metadata": {},
   "outputs": [],
   "source": [
    "# import dependencies\n",
    "import pandas as pd\n",
    "import matplotlib as plt\n",
    "import matplotlib.pyplot as plt\n",
    "import seaborn as sns\n",
    "import numpy as np\n",
    "import warnings\n",
    "warnings.filterwarnings('ignore')\n",
    "# SQL Alchemy\n",
    "from sqlalchemy import create_engine\n",
    "\n",
    "pd.set_option('display.max_columns', None)\n",
    "pd.set_option('display.max_rows', None)"
   ]
  },
  {
   "cell_type": "code",
   "execution_count": 2,
   "metadata": {},
   "outputs": [],
   "source": [
    "Communicable_Disease_10 = pd.read_csv(\"Resources/Communicable_Disease_10_Year_File.csv\")"
   ]
  },
  {
   "cell_type": "code",
   "execution_count": null,
   "metadata": {},
   "outputs": [],
   "source": [
    "# Create Engine for census data\n",
    " Communicable_Disease_10= \"../Resources/Communicable_Disease_10.sqlite\"\n",
    "engine = create_engine(f\"sqlite:///{census_database_path}\")\n",
    "conn = engine.connect()"
   ]
  },
  {
   "cell_type": "code",
   "execution_count": 3,
   "metadata": {},
   "outputs": [
    {
     "data": {
      "text/html": [
       "<div>\n",
       "<style scoped>\n",
       "    .dataframe tbody tr th:only-of-type {\n",
       "        vertical-align: middle;\n",
       "    }\n",
       "\n",
       "    .dataframe tbody tr th {\n",
       "        vertical-align: top;\n",
       "    }\n",
       "\n",
       "    .dataframe thead th {\n",
       "        text-align: right;\n",
       "    }\n",
       "</style>\n",
       "<table border=\"1\" class=\"dataframe\">\n",
       "  <thead>\n",
       "    <tr style=\"text-align: right;\">\n",
       "      <th></th>\n",
       "      <th>Year</th>\n",
       "      <th>State</th>\n",
       "      <th>Region</th>\n",
       "      <th>District</th>\n",
       "      <th>County</th>\n",
       "      <th>Condition</th>\n",
       "      <th>Population</th>\n",
       "      <th>Cases</th>\n",
       "      <th>Rate per 100,000</th>\n",
       "    </tr>\n",
       "  </thead>\n",
       "  <tbody>\n",
       "    <tr>\n",
       "      <th>0</th>\n",
       "      <td>2009</td>\n",
       "      <td>Virginia</td>\n",
       "      <td>Central</td>\n",
       "      <td>Chesterfield</td>\n",
       "      <td>Chesterfield</td>\n",
       "      <td>Anaplasma/Ehrlichiosis</td>\n",
       "      <td>306670</td>\n",
       "      <td>10</td>\n",
       "      <td>3.3</td>\n",
       "    </tr>\n",
       "    <tr>\n",
       "      <th>1</th>\n",
       "      <td>2009</td>\n",
       "      <td>Virginia</td>\n",
       "      <td>Central</td>\n",
       "      <td>Chesterfield</td>\n",
       "      <td>Chesterfield</td>\n",
       "      <td>Campylobacteriosis</td>\n",
       "      <td>306670</td>\n",
       "      <td>20</td>\n",
       "      <td>6.5</td>\n",
       "    </tr>\n",
       "    <tr>\n",
       "      <th>2</th>\n",
       "      <td>2009</td>\n",
       "      <td>Virginia</td>\n",
       "      <td>Central</td>\n",
       "      <td>Chesterfield</td>\n",
       "      <td>Chesterfield</td>\n",
       "      <td>Cryptosporidiosis</td>\n",
       "      <td>306670</td>\n",
       "      <td>1</td>\n",
       "      <td>0.3</td>\n",
       "    </tr>\n",
       "    <tr>\n",
       "      <th>3</th>\n",
       "      <td>2009</td>\n",
       "      <td>Virginia</td>\n",
       "      <td>Central</td>\n",
       "      <td>Chesterfield</td>\n",
       "      <td>Chesterfield</td>\n",
       "      <td>Escherichia coli infection, Shiga Toxin-Producing</td>\n",
       "      <td>306670</td>\n",
       "      <td>5</td>\n",
       "      <td>1.6</td>\n",
       "    </tr>\n",
       "    <tr>\n",
       "      <th>4</th>\n",
       "      <td>2009</td>\n",
       "      <td>Virginia</td>\n",
       "      <td>Central</td>\n",
       "      <td>Chesterfield</td>\n",
       "      <td>Chesterfield</td>\n",
       "      <td>Giardiasis</td>\n",
       "      <td>306670</td>\n",
       "      <td>10</td>\n",
       "      <td>3.3</td>\n",
       "    </tr>\n",
       "  </tbody>\n",
       "</table>\n",
       "</div>"
      ],
      "text/plain": [
       "   Year     State   Region      District        County  \\\n",
       "0  2009  Virginia  Central  Chesterfield  Chesterfield   \n",
       "1  2009  Virginia  Central  Chesterfield  Chesterfield   \n",
       "2  2009  Virginia  Central  Chesterfield  Chesterfield   \n",
       "3  2009  Virginia  Central  Chesterfield  Chesterfield   \n",
       "4  2009  Virginia  Central  Chesterfield  Chesterfield   \n",
       "\n",
       "                                           Condition  Population  Cases  \\\n",
       "0                             Anaplasma/Ehrlichiosis      306670     10   \n",
       "1                                 Campylobacteriosis      306670     20   \n",
       "2                                  Cryptosporidiosis      306670      1   \n",
       "3  Escherichia coli infection, Shiga Toxin-Producing      306670      5   \n",
       "4                                         Giardiasis      306670     10   \n",
       "\n",
       "   Rate per 100,000  \n",
       "0               3.3  \n",
       "1               6.5  \n",
       "2               0.3  \n",
       "3               1.6  \n",
       "4               3.3  "
      ]
     },
     "execution_count": 3,
     "metadata": {},
     "output_type": "execute_result"
    }
   ],
   "source": [
    "Communicable_Disease_10.head()"
   ]
  },
  {
   "cell_type": "code",
   "execution_count": 4,
   "metadata": {},
   "outputs": [],
   "source": [
    "#Keep selected columns\n",
    "Communicable_Disease = Communicable_Disease_10[['Year','County','Condition','Rate per 100,000']]"
   ]
  },
  {
   "cell_type": "code",
   "execution_count": 5,
   "metadata": {},
   "outputs": [
    {
     "data": {
      "text/html": [
       "<div>\n",
       "<style scoped>\n",
       "    .dataframe tbody tr th:only-of-type {\n",
       "        vertical-align: middle;\n",
       "    }\n",
       "\n",
       "    .dataframe tbody tr th {\n",
       "        vertical-align: top;\n",
       "    }\n",
       "\n",
       "    .dataframe thead th {\n",
       "        text-align: right;\n",
       "    }\n",
       "</style>\n",
       "<table border=\"1\" class=\"dataframe\">\n",
       "  <thead>\n",
       "    <tr style=\"text-align: right;\">\n",
       "      <th></th>\n",
       "      <th>Year</th>\n",
       "      <th>County</th>\n",
       "      <th>Condition</th>\n",
       "      <th>Rate per 100,000</th>\n",
       "    </tr>\n",
       "  </thead>\n",
       "  <tbody>\n",
       "    <tr>\n",
       "      <th>0</th>\n",
       "      <td>2009</td>\n",
       "      <td>Chesterfield</td>\n",
       "      <td>Anaplasma/Ehrlichiosis</td>\n",
       "      <td>3.3</td>\n",
       "    </tr>\n",
       "    <tr>\n",
       "      <th>1</th>\n",
       "      <td>2009</td>\n",
       "      <td>Chesterfield</td>\n",
       "      <td>Campylobacteriosis</td>\n",
       "      <td>6.5</td>\n",
       "    </tr>\n",
       "    <tr>\n",
       "      <th>2</th>\n",
       "      <td>2009</td>\n",
       "      <td>Chesterfield</td>\n",
       "      <td>Cryptosporidiosis</td>\n",
       "      <td>0.3</td>\n",
       "    </tr>\n",
       "    <tr>\n",
       "      <th>3</th>\n",
       "      <td>2009</td>\n",
       "      <td>Chesterfield</td>\n",
       "      <td>Escherichia coli infection, Shiga Toxin-Producing</td>\n",
       "      <td>1.6</td>\n",
       "    </tr>\n",
       "    <tr>\n",
       "      <th>4</th>\n",
       "      <td>2009</td>\n",
       "      <td>Chesterfield</td>\n",
       "      <td>Giardiasis</td>\n",
       "      <td>3.3</td>\n",
       "    </tr>\n",
       "  </tbody>\n",
       "</table>\n",
       "</div>"
      ],
      "text/plain": [
       "   Year        County                                          Condition  \\\n",
       "0  2009  Chesterfield                             Anaplasma/Ehrlichiosis   \n",
       "1  2009  Chesterfield                                 Campylobacteriosis   \n",
       "2  2009  Chesterfield                                  Cryptosporidiosis   \n",
       "3  2009  Chesterfield  Escherichia coli infection, Shiga Toxin-Producing   \n",
       "4  2009  Chesterfield                                         Giardiasis   \n",
       "\n",
       "   Rate per 100,000  \n",
       "0               3.3  \n",
       "1               6.5  \n",
       "2               0.3  \n",
       "3               1.6  \n",
       "4               3.3  "
      ]
     },
     "execution_count": 5,
     "metadata": {},
     "output_type": "execute_result"
    }
   ],
   "source": [
    "Communicable_Disease.head()"
   ]
  },
  {
   "cell_type": "code",
   "execution_count": 6,
   "metadata": {},
   "outputs": [
    {
     "data": {
      "text/plain": [
       "42"
      ]
     },
     "execution_count": 6,
     "metadata": {},
     "output_type": "execute_result"
    }
   ],
   "source": [
    "len(Communicable_Disease['Condition'].unique())"
   ]
  },
  {
   "cell_type": "code",
   "execution_count": 7,
   "metadata": {},
   "outputs": [
    {
     "data": {
      "text/plain": [
       "133"
      ]
     },
     "execution_count": 7,
     "metadata": {},
     "output_type": "execute_result"
    }
   ],
   "source": [
    "len(Communicable_Disease['County'].unique())"
   ]
  },
  {
   "cell_type": "code",
   "execution_count": 8,
   "metadata": {},
   "outputs": [
    {
     "data": {
      "text/plain": [
       "115"
      ]
     },
     "execution_count": 8,
     "metadata": {},
     "output_type": "execute_result"
    }
   ],
   "source": [
    "check = Communicable_Disease[(Communicable_Disease['Condition']=='Escherichia coli infection, Shiga Toxin-Producing')].reset_index(drop=True)\n",
    "len(check['County'].unique())"
   ]
  },
  {
   "cell_type": "code",
   "execution_count": 9,
   "metadata": {},
   "outputs": [
    {
     "data": {
      "text/plain": [
       "1"
      ]
     },
     "execution_count": 9,
     "metadata": {},
     "output_type": "execute_result"
    }
   ],
   "source": [
    "check_Chesterfield= check[(Communicable_Disease['County']==\"Chesterfield\")].reset_index(drop=True)\n",
    "len(check_Chesterfield['Condition'].unique())"
   ]
  },
  {
   "cell_type": "code",
   "execution_count": 10,
   "metadata": {},
   "outputs": [
    {
     "data": {
      "text/plain": [
       "0"
      ]
     },
     "execution_count": 10,
     "metadata": {},
     "output_type": "execute_result"
    }
   ],
   "source": [
    "check_Arlington = check[(Communicable_Disease['County']==\"Arlington\")].reset_index(drop=True)\n",
    "len(check_Arlington['Condition'].unique())"
   ]
  },
  {
   "cell_type": "code",
   "execution_count": 11,
   "metadata": {},
   "outputs": [
    {
     "name": "stdout",
     "output_type": "stream",
     "text": [
      "<class 'pandas.core.frame.DataFrame'>\n",
      "RangeIndex: 16148 entries, 0 to 16147\n",
      "Data columns (total 4 columns):\n",
      "Year                16148 non-null int64\n",
      "County              16148 non-null object\n",
      "Condition           16148 non-null object\n",
      "Rate per 100,000    16148 non-null float64\n",
      "dtypes: float64(1), int64(1), object(2)\n",
      "memory usage: 504.7+ KB\n"
     ]
    }
   ],
   "source": [
    "Communicable_Disease.info()"
   ]
  },
  {
   "cell_type": "code",
   "execution_count": 12,
   "metadata": {},
   "outputs": [
    {
     "data": {
      "text/html": [
       "<div>\n",
       "<style scoped>\n",
       "    .dataframe tbody tr th:only-of-type {\n",
       "        vertical-align: middle;\n",
       "    }\n",
       "\n",
       "    .dataframe tbody tr th {\n",
       "        vertical-align: top;\n",
       "    }\n",
       "\n",
       "    .dataframe thead th {\n",
       "        text-align: right;\n",
       "    }\n",
       "</style>\n",
       "<table border=\"1\" class=\"dataframe\">\n",
       "  <thead>\n",
       "    <tr style=\"text-align: right;\">\n",
       "      <th></th>\n",
       "      <th>Year</th>\n",
       "      <th>Rate per 100,000</th>\n",
       "    </tr>\n",
       "  </thead>\n",
       "  <tbody>\n",
       "    <tr>\n",
       "      <th>count</th>\n",
       "      <td>16148.000000</td>\n",
       "      <td>16148.000000</td>\n",
       "    </tr>\n",
       "    <tr>\n",
       "      <th>mean</th>\n",
       "      <td>2013.702006</td>\n",
       "      <td>19.661320</td>\n",
       "    </tr>\n",
       "    <tr>\n",
       "      <th>std</th>\n",
       "      <td>2.883657</td>\n",
       "      <td>48.273256</td>\n",
       "    </tr>\n",
       "    <tr>\n",
       "      <th>min</th>\n",
       "      <td>2009.000000</td>\n",
       "      <td>0.100000</td>\n",
       "    </tr>\n",
       "    <tr>\n",
       "      <th>25%</th>\n",
       "      <td>2011.000000</td>\n",
       "      <td>2.600000</td>\n",
       "    </tr>\n",
       "    <tr>\n",
       "      <th>50%</th>\n",
       "      <td>2014.000000</td>\n",
       "      <td>6.200000</td>\n",
       "    </tr>\n",
       "    <tr>\n",
       "      <th>75%</th>\n",
       "      <td>2016.000000</td>\n",
       "      <td>15.200000</td>\n",
       "    </tr>\n",
       "    <tr>\n",
       "      <th>max</th>\n",
       "      <td>2018.000000</td>\n",
       "      <td>912.900000</td>\n",
       "    </tr>\n",
       "  </tbody>\n",
       "</table>\n",
       "</div>"
      ],
      "text/plain": [
       "               Year  Rate per 100,000\n",
       "count  16148.000000      16148.000000\n",
       "mean    2013.702006         19.661320\n",
       "std        2.883657         48.273256\n",
       "min     2009.000000          0.100000\n",
       "25%     2011.000000          2.600000\n",
       "50%     2014.000000          6.200000\n",
       "75%     2016.000000         15.200000\n",
       "max     2018.000000        912.900000"
      ]
     },
     "execution_count": 12,
     "metadata": {},
     "output_type": "execute_result"
    }
   ],
   "source": [
    "Communicable_Disease.describe()"
   ]
  },
  {
   "cell_type": "code",
   "execution_count": 13,
   "metadata": {},
   "outputs": [],
   "source": [
    "# Save to CSV\n",
    "Communicable_Disease.to_csv(\"Clean_Data.csv\", index = False)"
   ]
  },
  {
   "cell_type": "code",
   "execution_count": null,
   "metadata": {},
   "outputs": [],
   "source": []
  }
 ],
 "metadata": {
  "kernelspec": {
   "display_name": "Python 3",
   "language": "python",
   "name": "python3"
  },
  "language_info": {
   "codemirror_mode": {
    "name": "ipython",
    "version": 3
   },
   "file_extension": ".py",
   "mimetype": "text/x-python",
   "name": "python",
   "nbconvert_exporter": "python",
   "pygments_lexer": "ipython3",
   "version": "3.7.3"
  }
 },
 "nbformat": 4,
 "nbformat_minor": 2
}
